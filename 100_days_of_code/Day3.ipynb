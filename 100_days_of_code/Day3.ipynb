{
 "cells": [
  {
   "cell_type": "code",
   "execution_count": 1,
   "metadata": {},
   "outputs": [],
   "source": [
    "# Day 3: Review short cuts and try to find new ones:"
   ]
  },
  {
   "cell_type": "code",
   "execution_count": 2,
   "metadata": {},
   "outputs": [
    {
     "data": {
      "text/plain": [
       "'\\nctrl+s: checkpoint\\na: insert new cell above current cell\\nb: insert new cell below current cell\\nm: convert cell to text/markdown\\ny: convert cell to code\\np: displays tons of commands & shortcuts -> review that list\\n[]\\n'"
      ]
     },
     "execution_count": 2,
     "metadata": {},
     "output_type": "execute_result"
    }
   ],
   "source": [
    "\"\"\"\n",
    "ctrl+s: checkpoint\n",
    "a: insert new cell above current cell\n",
    "b: insert new cell below current cell\n",
    "m: convert cell to text/markdown\n",
    "y: convert cell to code\n",
    "p (ctrl-shift-p): displays tons of commands & shortcuts -> review that list *** #1 shortcut\n",
    "h: display shortcuts\n",
    "c: copy selected cell\n",
    "x: cut selected cell\n",
    "v: past cells from clipboard below selected cell\n",
    "shift-v: paste cells above\n",
    "d,d: delete cell\n",
    "f: find and replace!!! You need this\n",
    "l: toggle cell line #'s\n",
    "shift-l: toggle all-line number -> damn line #'s look ugly here for some reason\n",
    "\"\"\""
   ]
  },
  {
   "cell_type": "code",
   "execution_count": null,
   "metadata": {},
   "outputs": [],
   "source": []
  },
  {
   "cell_type": "code",
   "execution_count": null,
   "metadata": {},
   "outputs": [],
   "source": []
  }
 ],
 "metadata": {
  "kernelspec": {
   "display_name": "Python 3",
   "language": "python",
   "name": "python3"
  },
  "language_info": {
   "codemirror_mode": {
    "name": "ipython",
    "version": 3
   },
   "file_extension": ".py",
   "mimetype": "text/x-python",
   "name": "python",
   "nbconvert_exporter": "python",
   "pygments_lexer": "ipython3",
   "version": "3.7.5"
  }
 },
 "nbformat": 4,
 "nbformat_minor": 4
}
