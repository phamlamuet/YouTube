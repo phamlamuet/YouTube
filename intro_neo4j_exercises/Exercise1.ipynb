{
 "cells": [
  {
   "cell_type": "code",
   "execution_count": null,
   "metadata": {},
   "outputs": [],
   "source": [
    "# :play intro-neo4j-exercises\n",
    "# Exercise 1"
   ]
  },
  {
   "cell_type": "code",
   "execution_count": null,
   "metadata": {},
   "outputs": [],
   "source": [
    "# Imports\n",
    "from neo4j import GraphDatabase"
   ]
  },
  {
   "cell_type": "code",
   "execution_count": null,
   "metadata": {},
   "outputs": [],
   "source": [
    "# Connection to Graph Database\n",
    "user = 'neo4j'\n",
    "pw = 'abc123'\n",
    "uri = 'bolt://localhost:7687'\n",
    "neo4j_driver = GraphDatabase.driver(uri, auth=(user, pw), encrypted = False)"
   ]
  },
  {
   "cell_type": "code",
   "execution_count": null,
   "metadata": {},
   "outputs": [],
   "source": [
    "# Run this to wipe database and create exercise 1 database\n",
    "with open('./Exercise1Database.cypher', 'r') as f_read: \n",
    "  create_db_cypher = f_read.read()\n",
    "\n",
    "with neo4j_driver.session() as session:\n",
    "    for cypher in create_db_cypher.split(';'): # statements are split by ';'\n",
    "        session.run(cypher)"
   ]
  },
  {
   "cell_type": "code",
   "execution_count": null,
   "metadata": {},
   "outputs": [],
   "source": [
    "# Exercise 1.1. Retreive all nodes from database\n",
    "cypher = 'MATCH (n) RETURN n'\n",
    "with neo4j_driver.session() as session:\n",
    "    result = session.run(cypher)\n",
    "    for r in result.value():\n",
    "        print(r)\n"
   ]
  },
  {
   "cell_type": "code",
   "execution_count": null,
   "metadata": {},
   "outputs": [],
   "source": [
    "# Exercise 1.2: Examine the schema of your database\n",
    "cypher = 'CALL db.schema.visualization()'\n",
    "with neo4j_driver.session() as session:\n",
    "    result = session.run(cypher)\n",
    "    for r in result.value():\n",
    "        print(r)"
   ]
  },
  {
   "cell_type": "code",
   "execution_count": null,
   "metadata": {},
   "outputs": [],
   "source": [
    "# Exercise 1.3: Retrieve all Person nodes\n",
    "cypher = 'MATCH (p:Person) RETURN p'\n",
    "with neo4j_driver.session() as session:\n",
    "    result = session.run(cypher)\n",
    "    for r in result.value():\n",
    "        print(r)"
   ]
  },
  {
   "cell_type": "code",
   "execution_count": null,
   "metadata": {},
   "outputs": [],
   "source": [
    "# Exercise 1.3: Retrieve all Movie nodes\n",
    "cypher = 'MATCH (m:Movie) RETURN m'\n",
    "with neo4j_driver.session() as session:\n",
    "    result = session.run(cypher)\n",
    "    for r in result.value():\n",
    "        print(f\"Movie: {r['title']}\\n\\tReleased: {r['released']}\")"
   ]
  },
  {
   "cell_type": "code",
   "execution_count": null,
   "metadata": {},
   "outputs": [],
   "source": []
  }
 ],
 "metadata": {
  "kernelspec": {
   "display_name": "Python 3",
   "language": "python",
   "name": "python3"
  },
  "language_info": {
   "codemirror_mode": {
    "name": "ipython",
    "version": 3
   },
   "file_extension": ".py",
   "mimetype": "text/x-python",
   "name": "python",
   "nbconvert_exporter": "python",
   "pygments_lexer": "ipython3",
   "version": "3.7.5"
  }
 },
 "nbformat": 4,
 "nbformat_minor": 4
}
