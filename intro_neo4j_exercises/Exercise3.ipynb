{
 "cells": [
  {
   "cell_type": "code",
   "execution_count": 1,
   "metadata": {},
   "outputs": [],
   "source": [
    "# :play intro-neo4j-exercises\n",
    "# Exercise 3"
   ]
  },
  {
   "cell_type": "code",
   "execution_count": 2,
   "metadata": {},
   "outputs": [],
   "source": [
    "# Imports\n",
    "from neo4j import GraphDatabase\n",
    "import pandas as pd"
   ]
  },
  {
   "cell_type": "code",
   "execution_count": 3,
   "metadata": {},
   "outputs": [],
   "source": [
    "# Connection to Graph Database\n",
    "user = 'neo4j'\n",
    "pw = 'test'\n",
    "uri = 'bolt://192.168.1.135:7687'\n",
    "neo4j_driver = GraphDatabase.driver(uri, auth=(user, pw), encrypted = False)"
   ]
  },
  {
   "cell_type": "code",
   "execution_count": 4,
   "metadata": {},
   "outputs": [],
   "source": [
    "# Same Database as Exercise 1\n",
    "with open('./Exercise1Database.cypher', 'r') as f_read: \n",
    "  create_db_cypher = f_read.read()\n",
    "\n",
    "with neo4j_driver.session() as session:\n",
    "    for cypher in create_db_cypher.split(';'): # statements are split by ';'\n",
    "        session.run(cypher)"
   ]
  },
  {
   "cell_type": "markdown",
   "metadata": {},
   "source": [
    "Exercise 3.1: Display the schema of the database (Instructions)\n",
    "\n",
    "You will use schema information to help you specify relationships in your queries.\n",
    "\n",
    "Display the schema of the database."
   ]
  },
  {
   "cell_type": "code",
   "execution_count": 5,
   "metadata": {},
   "outputs": [
    {
     "name": "stdout",
     "output_type": "stream",
     "text": [
      "<Record relType=':`ACTED_IN`' propertyName='roles' propertyTypes=['StringArray'] mandatory=True>\n",
      "<Record relType=':`DIRECTED`' propertyName=None propertyTypes=None mandatory=False>\n",
      "<Record relType=':`PRODUCED`' propertyName=None propertyTypes=None mandatory=False>\n",
      "<Record relType=':`WROTE`' propertyName=None propertyTypes=None mandatory=False>\n",
      "<Record relType=':`FOLLOWS`' propertyName=None propertyTypes=None mandatory=False>\n",
      "<Record relType=':`REVIEWED`' propertyName='summary' propertyTypes=['String'] mandatory=True>\n",
      "<Record relType=':`REVIEWED`' propertyName='rating' propertyTypes=['Long'] mandatory=True>\n",
      "<Record nodeType=':`Person`' nodeLabels=['Person'] propertyName='born' propertyTypes=['Long'] mandatory=False>\n",
      "<Record nodeType=':`Person`' nodeLabels=['Person'] propertyName='name' propertyTypes=['String'] mandatory=True>\n",
      "<Record nodeType=':`Movie`' nodeLabels=['Movie'] propertyName='tagline' propertyTypes=['String'] mandatory=False>\n",
      "<Record nodeType=':`Movie`' nodeLabels=['Movie'] propertyName='title' propertyTypes=['String'] mandatory=True>\n",
      "<Record nodeType=':`Movie`' nodeLabels=['Movie'] propertyName='released' propertyTypes=['Long'] mandatory=True>\n"
     ]
    }
   ],
   "source": [
    "# answer in the exercise is 'CALL db.schema' but that has been superseeded by CALL db.schema.visualization\n",
    "# Using two other schema functions due to ease of viewing in python\n",
    "# CALL db.schema.visualization works great in Neo4j Browser, but would needs some formatting to be useful here\n",
    "\n",
    "cypher = 'CALL db.schema.relTypeProperties()'\n",
    "with neo4j_driver.session() as session:\n",
    "    result = session.run(cypher)\n",
    "    for r in result:\n",
    "        print(r)\n",
    "\n",
    "cypher = 'CALL db.schema.nodeTypeProperties()'\n",
    "with neo4j_driver.session() as session:\n",
    "    result = session.run(cypher)\n",
    "    for r in result:\n",
    "        print(r)\n",
    "        \n"
   ]
  },
  {
   "cell_type": "markdown",
   "metadata": {},
   "source": [
    "Exercise 3.2: Retrieve all people who wrote the movie Speed Racer (Instructions)\n",
    "\n",
    "Retrieve all people who wrote the movie Speed Racer."
   ]
  },
  {
   "cell_type": "code",
   "execution_count": 20,
   "metadata": {},
   "outputs": [],
   "source": [
    "# doing it as a function\n",
    "def get_writers(title):\n",
    "    writers = []\n",
    "    cypher = 'MATCH (p:Person)-[:WROTE]->(:Movie {title: $title}) RETURN p.name'\n",
    "    with neo4j_driver.session() as session:\n",
    "        result = session.run(cypher, title=title)\n",
    "        for r in result.value():\n",
    "            writers.append(r)\n",
    "    return writers        "
   ]
  },
  {
   "cell_type": "code",
   "execution_count": 21,
   "metadata": {},
   "outputs": [
    {
     "data": {
      "text/plain": [
       "['Lana Wachowski', 'Lilly Wachowski']"
      ]
     },
     "execution_count": 21,
     "metadata": {},
     "output_type": "execute_result"
    }
   ],
   "source": [
    "get_writers('Speed Racer')"
   ]
  },
  {
   "cell_type": "markdown",
   "metadata": {},
   "source": [
    "Exercise 3.2: Retrieve all people who wrote the movie Speed Racer (Taking it further - optional)\n",
    "\n",
    "Retrieve all people who have written other movies.\n",
    "\n",
    "Retrieve people who have acted in a particular movie.\n",
    "\n",
    "Retrieve people who have directed a particular movie."
   ]
  },
  {
   "cell_type": "code",
   "execution_count": 6,
   "metadata": {},
   "outputs": [],
   "source": [
    "# Retrieve all people who have written other movies.\n",
    "def get_all_writers():\n",
    "    writers = []\n",
    "    cypher = 'MATCH (p:Person)-[:WROTE]->(:Movie) RETURN p.name'\n",
    "    with neo4j_driver.session() as session:\n",
    "        result = session.run(cypher)\n",
    "        for r in result.value():\n",
    "            writers.append(r)\n",
    "    return writers      \n",
    "\n",
    "# Retrieve people who have acted in a particular movie.\n",
    "def get_actors(title):\n",
    "    writers = []\n",
    "    cypher = 'MATCH (p:Person)-[:ACTED_IN]->(:Movie {title: $title}) RETURN p.name'\n",
    "    with neo4j_driver.session() as session:\n",
    "        result = session.run(cypher, title=title)\n",
    "        for r in result.value():\n",
    "            writers.append(r)\n",
    "    return writers      \n",
    "\n",
    "# Retrieve people who have directed a particular movie.\n",
    "def get_directors(title):\n",
    "    writers = []\n",
    "    cypher = 'MATCH (p:Person)-[:DIRECTED]->(:Movie {title: $title}) RETURN p.name'\n",
    "    with neo4j_driver.session() as session:\n",
    "        result = session.run(cypher, title=title)\n",
    "        for r in result.value():\n",
    "            writers.append(r)\n",
    "    return writers        "
   ]
  },
  {
   "cell_type": "code",
   "execution_count": 7,
   "metadata": {},
   "outputs": [
    {
     "name": "stdout",
     "output_type": "stream",
     "text": [
      "['Aaron Sorkin', 'Jim Cash', 'Cameron Crowe', 'Nora Ephron', 'David Mitchell', 'Lana Wachowski', 'Lilly Wachowski', 'Lana Wachowski', 'Lilly Wachowski', 'Nancy Meyers']\n",
      "['Rain', 'Susan Sarandon', 'Christina Ricci', 'Matthew Fox', 'Emile Hirsch', 'Ben Miles', 'John Goodman']\n",
      "['Lana Wachowski', 'Lilly Wachowski']\n"
     ]
    }
   ],
   "source": [
    "writers = get_all_writers()\n",
    "print(writers)\n",
    "actors = get_actors('Speed Racer')\n",
    "print(actors)\n",
    "directors = get_directors('Speed Racer')\n",
    "print(directors)"
   ]
  },
  {
   "cell_type": "markdown",
   "metadata": {},
   "source": [
    "Exercise 3.3: Retrieve all movies that are connected to the person, Tom Hanks (Instructions)\n",
    "\n",
    "Retrieve all movies connected with Tom Hanks.\n",
    "\n",
    "Hint: Tom Hanks has multiple relationships with a movie so you should not specify a relationship type in the query."
   ]
  },
  {
   "cell_type": "code",
   "execution_count": 8,
   "metadata": {},
   "outputs": [],
   "source": [
    "def get_all_movies(name):\n",
    "    movies = []\n",
    "    cypher = 'MATCH (m:Movie)<--(:Person {name: $name}) RETURN m.title AS title' # node with varibal (m) first due to best practice\n",
    "    with neo4j_driver.session() as session:\n",
    "        result = session.run(cypher, name=name)\n",
    "        for r in result:\n",
    "            movies.append(r['title'])\n",
    "    return movies     "
   ]
  },
  {
   "cell_type": "code",
   "execution_count": 9,
   "metadata": {},
   "outputs": [
    {
     "data": {
      "text/plain": [
       "['A League of Their Own',\n",
       " 'Cloud Atlas',\n",
       " 'The Da Vinci Code',\n",
       " 'Sleepless in Seattle',\n",
       " 'The Polar Express',\n",
       " 'The Green Mile',\n",
       " 'Cast Away',\n",
       " \"Charlie Wilson's War\",\n",
       " 'That Thing You Do',\n",
       " 'That Thing You Do',\n",
       " 'Joe Versus the Volcano',\n",
       " 'Apollo 13',\n",
       " \"You've Got Mail\"]"
      ]
     },
     "execution_count": 9,
     "metadata": {},
     "output_type": "execute_result"
    }
   ],
   "source": [
    "get_all_movies('Tom Hanks')"
   ]
  },
  {
   "cell_type": "markdown",
   "metadata": {},
   "source": [
    "Exercise 3.3: Retrieve all movies that are connected to the person, Tom Hanks (Taking it further - optional)\n",
    "\n",
    "Retrieve all movies connected with another actor.\n",
    "\n",
    "Retrieve all people connected with a particular movie"
   ]
  },
  {
   "cell_type": "code",
   "execution_count": 6,
   "metadata": {},
   "outputs": [
    {
     "name": "stdout",
     "output_type": "stream",
     "text": [
      "['The Matrix Revolutions', 'The Matrix Reloaded', \"Something's Gotta Give\", \"The Devil's Advocate\", 'The Replacements', 'Johnny Mnemonic', 'The Matrix']\n"
     ]
    }
   ],
   "source": [
    "best_movies = get_all_movies('Keanu Reeves')\n",
    "print(best_movies)"
   ]
  },
  {
   "cell_type": "code",
   "execution_count": 16,
   "metadata": {},
   "outputs": [],
   "source": [
    "def get_all_people(title):\n",
    "    people = []\n",
    "    cypher = 'MATCH (p:Person)-->(:Movie {title: $title}) RETURN p.name as name'\n",
    "    with neo4j_driver.session() as session:\n",
    "        result = session.run(cypher, title=title)\n",
    "        for r in result:\n",
    "            people.append(r['name'])\n",
    "    return people"
   ]
  },
  {
   "cell_type": "code",
   "execution_count": 17,
   "metadata": {},
   "outputs": [
    {
     "name": "stdout",
     "output_type": "stream",
     "text": [
      "<Record name='Joel Silver'>\n",
      "<Record name='Emil Eifrem'>\n",
      "<Record name='Laurence Fishburne'>\n",
      "<Record name='Lana Wachowski'>\n",
      "<Record name='Hugo Weaving'>\n",
      "<Record name='Lilly Wachowski'>\n",
      "<Record name='Carrie-Anne Moss'>\n",
      "<Record name='Keanu Reeves'>\n"
     ]
    },
    {
     "data": {
      "text/plain": [
       "['Joel Silver',\n",
       " 'Emil Eifrem',\n",
       " 'Laurence Fishburne',\n",
       " 'Lana Wachowski',\n",
       " 'Hugo Weaving',\n",
       " 'Lilly Wachowski',\n",
       " 'Carrie-Anne Moss',\n",
       " 'Keanu Reeves']"
      ]
     },
     "execution_count": 17,
     "metadata": {},
     "output_type": "execute_result"
    }
   ],
   "source": [
    "get_all_people('The Matrix')"
   ]
  },
  {
   "cell_type": "markdown",
   "metadata": {},
   "source": [
    "Exercise 3.4: Retrieve information about the relationships Tom Hanks has with the set of movies retrieved earlier (Instructions)\n",
    "\n",
    "Modify the query that you just executed to return the type information about the relationships between Tom Hanks and the movies."
   ]
  },
  {
   "cell_type": "code",
   "execution_count": 37,
   "metadata": {},
   "outputs": [],
   "source": [
    "def get_all_movies_and_rel(name):\n",
    "    movies = []\n",
    "    # note cypher uses two way relationship ()-[]-() even though results in this data set are one way ()<-[]-()\n",
    "    cypher = 'MATCH (m:Movie)-[rel]-(:Person {name: $name}) RETURN m.title AS title, rel' # node with varibal (m) first due to best practice\n",
    "    with neo4j_driver.session() as session:\n",
    "        result = session.run(cypher, name=name)\n",
    "        for r in result:\n",
    "            movies.append({'title': r['title'], 'position': r['rel'].type})\n",
    "    return movies     "
   ]
  },
  {
   "cell_type": "code",
   "execution_count": 38,
   "metadata": {},
   "outputs": [
    {
     "data": {
      "text/plain": [
       "[{'title': 'A League of Their Own', 'position': 'ACTED_IN'},\n",
       " {'title': 'Cloud Atlas', 'position': 'ACTED_IN'},\n",
       " {'title': 'The Da Vinci Code', 'position': 'ACTED_IN'},\n",
       " {'title': 'Sleepless in Seattle', 'position': 'ACTED_IN'},\n",
       " {'title': 'The Polar Express', 'position': 'ACTED_IN'},\n",
       " {'title': 'The Green Mile', 'position': 'ACTED_IN'},\n",
       " {'title': 'Cast Away', 'position': 'ACTED_IN'},\n",
       " {'title': \"Charlie Wilson's War\", 'position': 'ACTED_IN'},\n",
       " {'title': 'That Thing You Do', 'position': 'ACTED_IN'},\n",
       " {'title': 'That Thing You Do', 'position': 'DIRECTED'},\n",
       " {'title': 'Joe Versus the Volcano', 'position': 'ACTED_IN'},\n",
       " {'title': 'Apollo 13', 'position': 'ACTED_IN'},\n",
       " {'title': \"You've Got Mail\", 'position': 'ACTED_IN'}]"
      ]
     },
     "execution_count": 38,
     "metadata": {},
     "output_type": "execute_result"
    }
   ],
   "source": [
    "get_all_movies_and_rel('Tom Hanks')"
   ]
  },
  {
   "cell_type": "markdown",
   "metadata": {},
   "source": [
    "Exercise 3.4: Retrieve information about the relationships Tom Hanks has with the set of movies retrieved earlier (Taking it further - optional)\n",
    "\n",
    "Retrieve the relationship information about a different actor."
   ]
  },
  {
   "cell_type": "code",
   "execution_count": 39,
   "metadata": {},
   "outputs": [
    {
     "data": {
      "text/plain": [
       "[{'title': 'The Matrix Revolutions', 'position': 'ACTED_IN'},\n",
       " {'title': 'The Matrix Reloaded', 'position': 'ACTED_IN'},\n",
       " {'title': \"Something's Gotta Give\", 'position': 'ACTED_IN'},\n",
       " {'title': \"The Devil's Advocate\", 'position': 'ACTED_IN'},\n",
       " {'title': 'The Replacements', 'position': 'ACTED_IN'},\n",
       " {'title': 'Johnny Mnemonic', 'position': 'ACTED_IN'},\n",
       " {'title': 'The Matrix', 'position': 'ACTED_IN'}]"
      ]
     },
     "execution_count": 39,
     "metadata": {},
     "output_type": "execute_result"
    }
   ],
   "source": [
    "get_all_movies_and_rel('Keanu Reeves')"
   ]
  },
  {
   "cell_type": "markdown",
   "metadata": {},
   "source": [
    "Exercise 3.5: Retrieve information about the roles that Tom Hanks acted in (Instructions)\n",
    "\n",
    "As an actor, a Person node in the database connects to a Movie node using the ACTED_IN relationship. One of the properties of the ACTED_IN relationship is roles.\n",
    "\n",
    "Retrieve information about the roles that Tom Hanks played."
   ]
  },
  {
   "cell_type": "code",
   "execution_count": 44,
   "metadata": {},
   "outputs": [],
   "source": [
    "def get_roles(name):\n",
    "    roles = []\n",
    "    cypher = 'MATCH (m:Movie)<-[rel:ACTED_IN]-(:Person {name: $name}) return m.title AS title, rel.roles AS roles'\n",
    "    with neo4j_driver.session() as session:\n",
    "        results = session.run(cypher, name=name)\n",
    "        for r in results:\n",
    "            roles.append({'title': r['title'], 'roles': r['roles']})\n",
    "    return roles"
   ]
  },
  {
   "cell_type": "code",
   "execution_count": 45,
   "metadata": {},
   "outputs": [
    {
     "data": {
      "text/plain": [
       "[{'title': 'A League of Their Own', 'roles': ['Jimmy Dugan']},\n",
       " {'title': 'Cloud Atlas',\n",
       "  'roles': ['Zachry', 'Dr. Henry Goose', 'Isaac Sachs', 'Dermot Hoggins']},\n",
       " {'title': 'The Da Vinci Code', 'roles': ['Dr. Robert Langdon']},\n",
       " {'title': 'Sleepless in Seattle', 'roles': ['Sam Baldwin']},\n",
       " {'title': 'The Polar Express',\n",
       "  'roles': ['Hero Boy',\n",
       "   'Father',\n",
       "   'Conductor',\n",
       "   'Hobo',\n",
       "   'Scrooge',\n",
       "   'Santa Claus']},\n",
       " {'title': 'The Green Mile', 'roles': ['Paul Edgecomb']},\n",
       " {'title': 'Cast Away', 'roles': ['Chuck Noland']},\n",
       " {'title': \"Charlie Wilson's War\", 'roles': ['Rep. Charlie Wilson']},\n",
       " {'title': 'That Thing You Do', 'roles': ['Mr. White']},\n",
       " {'title': 'Joe Versus the Volcano', 'roles': ['Joe Banks']},\n",
       " {'title': 'Apollo 13', 'roles': ['Jim Lovell']},\n",
       " {'title': \"You've Got Mail\", 'roles': ['Joe Fox']}]"
      ]
     },
     "execution_count": 45,
     "metadata": {},
     "output_type": "execute_result"
    }
   ],
   "source": [
    "get_roles('Tom Hanks')"
   ]
  },
  {
   "cell_type": "markdown",
   "metadata": {},
   "source": [
    "Exercise 3.5: Retrieve information about the roles that Tom Hanks acted in (Taking it further - optional)\n",
    "\n",
    "Retrieve all roles for a different actor.\n",
    "\n",
    "Retrieve all roles played for a particular movie."
   ]
  },
  {
   "cell_type": "code",
   "execution_count": 46,
   "metadata": {},
   "outputs": [
    {
     "data": {
      "text/plain": [
       "[{'title': 'The Matrix Revolutions', 'roles': ['Neo']},\n",
       " {'title': 'The Matrix Reloaded', 'roles': ['Neo']},\n",
       " {'title': \"Something's Gotta Give\", 'roles': ['Julian Mercer']},\n",
       " {'title': \"The Devil's Advocate\", 'roles': ['Kevin Lomax']},\n",
       " {'title': 'The Replacements', 'roles': ['Shane Falco']},\n",
       " {'title': 'Johnny Mnemonic', 'roles': ['Johnny Mnemonic']},\n",
       " {'title': 'The Matrix', 'roles': ['Neo']}]"
      ]
     },
     "execution_count": 46,
     "metadata": {},
     "output_type": "execute_result"
    }
   ],
   "source": [
    "get_roles('Keanu Reeves')"
   ]
  },
  {
   "cell_type": "code",
   "execution_count": 47,
   "metadata": {},
   "outputs": [],
   "source": [
    "def get_roles_in_movie(title):\n",
    "    roles = []\n",
    "    cypher = 'MATCH (p:Person)-[rel:ACTED_IN]->(:Movie {title: $title}) return p.name AS name, rel.roles AS roles'\n",
    "    with neo4j_driver.session() as session:\n",
    "        results = session.run(cypher, title=title)\n",
    "        for r in results:\n",
    "            roles.append({'name': r['name'], 'roles': r['roles']})\n",
    "    return roles"
   ]
  },
  {
   "cell_type": "code",
   "execution_count": 48,
   "metadata": {},
   "outputs": [
    {
     "data": {
      "text/plain": [
       "[{'name': 'Emil Eifrem', 'roles': ['Emil']},\n",
       " {'name': 'Laurence Fishburne', 'roles': ['Morpheus']},\n",
       " {'name': 'Hugo Weaving', 'roles': ['Agent Smith']},\n",
       " {'name': 'Carrie-Anne Moss', 'roles': ['Trinity']},\n",
       " {'name': 'Keanu Reeves', 'roles': ['Neo']}]"
      ]
     },
     "execution_count": 48,
     "metadata": {},
     "output_type": "execute_result"
    }
   ],
   "source": [
    "get_roles_in_movie('The Matrix')"
   ]
  },
  {
   "cell_type": "code",
   "execution_count": null,
   "metadata": {},
   "outputs": [],
   "source": []
  }
 ],
 "metadata": {
  "kernelspec": {
   "display_name": "Python 3.7.5 64-bit ('YouTube': pipenv)",
   "language": "python",
   "name": "python37564bityoutubepipenvc59bfe2260c546fcb63499293b62f348"
  },
  "language_info": {
   "codemirror_mode": {
    "name": "ipython",
    "version": 3
   },
   "file_extension": ".py",
   "mimetype": "text/x-python",
   "name": "python",
   "nbconvert_exporter": "python",
   "pygments_lexer": "ipython3",
   "version": "3.7.5"
  }
 },
 "nbformat": 4,
 "nbformat_minor": 4
}
