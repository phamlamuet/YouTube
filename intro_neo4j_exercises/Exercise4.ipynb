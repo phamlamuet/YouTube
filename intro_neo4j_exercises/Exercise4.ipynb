{
 "cells": [
  {
   "cell_type": "code",
   "execution_count": 1,
   "metadata": {},
   "outputs": [],
   "source": [
    "# :play intro-neo4j-exercises\n",
    "# Exercise 4"
   ]
  },
  {
   "cell_type": "code",
   "execution_count": 1,
   "metadata": {},
   "outputs": [],
   "source": [
    "# Imports\n",
    "from neo4j import GraphDatabase\n",
    "import pandas as pd"
   ]
  },
  {
   "cell_type": "code",
   "execution_count": 2,
   "metadata": {},
   "outputs": [],
   "source": [
    "# Connection to Graph Database\n",
    "user = 'neo4j'\n",
    "pw = 'test'\n",
    "uri = 'bolt://192.168.1.135:7687'\n",
    "neo4j_driver = GraphDatabase.driver(uri, auth=(user, pw), encrypted = False)"
   ]
  },
  {
   "cell_type": "code",
   "execution_count": 3,
   "metadata": {},
   "outputs": [],
   "source": [
    "# # Same Database as Exercise 1\n",
    "# with open('./Exercise1Database.cypher', 'r') as f_read: \n",
    "#   create_db_cypher = f_read.read()\n",
    "\n",
    "# with neo4j_driver.session() as session:\n",
    "#     for cypher in create_db_cypher.split(';'): # statements are split by ';'\n",
    "#         session.run(cypher)"
   ]
  },
  {
   "cell_type": "markdown",
   "metadata": {},
   "source": [
    "Exercise 3.1: Display the schema of the database (Instructions)\n",
    "\n",
    "You will use schema information to help you specify relationships in your queries.\n",
    "\n",
    "Display the schema of the database."
   ]
  },
  {
   "cell_type": "code",
   "execution_count": 4,
   "metadata": {},
   "outputs": [
    {
     "name": "stdout",
     "output_type": "stream",
     "text": [
      "<Record relType=':`ACTED_IN`' propertyName='roles' propertyTypes=['StringArray'] mandatory=True>\n",
      "<Record relType=':`DIRECTED`' propertyName=None propertyTypes=None mandatory=False>\n",
      "<Record relType=':`PRODUCED`' propertyName=None propertyTypes=None mandatory=False>\n",
      "<Record relType=':`WROTE`' propertyName=None propertyTypes=None mandatory=False>\n",
      "<Record relType=':`FOLLOWS`' propertyName=None propertyTypes=None mandatory=False>\n",
      "<Record relType=':`REVIEWED`' propertyName='summary' propertyTypes=['String'] mandatory=True>\n",
      "<Record relType=':`REVIEWED`' propertyName='rating' propertyTypes=['Long'] mandatory=True>\n",
      "<Record nodeType=':`Person`' nodeLabels=['Person'] propertyName='born' propertyTypes=['Long'] mandatory=False>\n",
      "<Record nodeType=':`Person`' nodeLabels=['Person'] propertyName='name' propertyTypes=['String'] mandatory=True>\n",
      "<Record nodeType=':`Movie`' nodeLabels=['Movie'] propertyName='tagline' propertyTypes=['String'] mandatory=False>\n",
      "<Record nodeType=':`Movie`' nodeLabels=['Movie'] propertyName='title' propertyTypes=['String'] mandatory=True>\n",
      "<Record nodeType=':`Movie`' nodeLabels=['Movie'] propertyName='released' propertyTypes=['Long'] mandatory=True>\n"
     ]
    }
   ],
   "source": [
    "# answer in the exercise is 'CALL db.schema' but that has been superseeded by CALL db.schema.visualization\n",
    "# Using two other schema functions due to ease of viewing in python\n",
    "# CALL db.schema.visualization works great in Neo4j Browser, but would needs some formatting to be useful here\n",
    "\n",
    "cypher = 'CALL db.schema.relTypeProperties()'\n",
    "with neo4j_driver.session() as session:\n",
    "    result = session.run(cypher)\n",
    "    for r in result:\n",
    "        print(r)\n",
    "\n",
    "cypher = 'CALL db.schema.nodeTypeProperties()'\n",
    "with neo4j_driver.session() as session:\n",
    "    result = session.run(cypher)\n",
    "    for r in result:\n",
    "        print(r)\n",
    "        \n"
   ]
  },
  {
   "cell_type": "markdown",
   "metadata": {},
   "source": [
    "Exercise 4.1: Retrieve all movies that Tom Cruise acted in (Instructions)\n",
    "\n",
    "Retrieve all movies that Tom Cruise acted in and return their titles.\n",
    "\n",
    "Hint: Use a WHERE clause.\n",
    "\n",
    "Hint: You must specify a variable for the Person and Movie nodes as they are used in the WHERE and RETURN clauses."
   ]
  },
  {
   "cell_type": "code",
   "execution_count": 9,
   "metadata": {},
   "outputs": [
    {
     "name": "stdout",
     "output_type": "stream",
     "text": [
      "['Jerry Maguire', 'Top Gun', 'A Few Good Men']\n"
     ]
    }
   ],
   "source": [
    "cypher = \"\"\"\n",
    "MATCH (p:Person)-[:ACTED_IN]->(m:Movie)\n",
    "WHERE p.name = 'Tom Cruise'\n",
    "RETURN m.title as title\n",
    "\"\"\"\n",
    "with neo4j_driver.session() as session:\n",
    "    movies = []\n",
    "    result = session.run(cypher)\n",
    "    for r in result:\n",
    "        movies.append(r['title'])\n",
    "\n",
    "print(movies)"
   ]
  },
  {
   "cell_type": "markdown",
   "metadata": {},
   "source": [
    "Exercise 4.2: Retrieve all people that were born in the 70’s (Instructions)\n",
    "\n",
    "Retrieve all people that were born in the 70’s and return their names and year born."
   ]
  },
  {
   "cell_type": "code",
   "execution_count": 12,
   "metadata": {},
   "outputs": [
    {
     "name": "stdout",
     "output_type": "stream",
     "text": [
      "[{'name': 'Emil Eifrem', 'born': 1978}, {'name': 'Charlize Theron', 'born': 1975}, {'name': 'Noah Wyle', 'born': 1971}, {'name': \"Jerry O'Connell\", 'born': 1974}, {'name': 'Jay Mohr', 'born': 1970}, {'name': 'Regina King', 'born': 1971}, {'name': 'River Phoenix', 'born': 1970}, {'name': 'Corey Feldman', 'born': 1971}, {'name': 'Wil Wheaton', 'born': 1972}, {'name': 'Ethan Hawke', 'born': 1970}, {'name': 'Rick Yune', 'born': 1971}, {'name': 'Dave Chappelle', 'born': 1973}, {'name': 'Liv Tyler', 'born': 1977}, {'name': 'Brooke Langton', 'born': 1970}, {'name': 'Christian Bale', 'born': 1974}, {'name': 'Audrey Tautou', 'born': 1976}, {'name': 'Paul Bettany', 'born': 1971}]\n"
     ]
    }
   ],
   "source": [
    "cypher = \"\"\"\n",
    "MATCH (p:Person)\n",
    "WHERE p.born >= 1970 AND p.born < 1980\n",
    "RETURN p.name as name, p.born as born\n",
    "\"\"\"\n",
    "with neo4j_driver.session() as session:\n",
    "    people = []\n",
    "    result = session.run(cypher)\n",
    "    for r in result:\n",
    "        people.append({'name': r['name'], 'born': r['born']})\n",
    "        \n",
    "print(people)"
   ]
  },
  {
   "cell_type": "markdown",
   "metadata": {},
   "source": [
    "Exercise 4.3: Retrieve the actors who acted in the movie The Matrix who were born after 1960 (Instructions)\n",
    "\n",
    "Retrieve the actors who acted in the movie The Matrix who were born after 1960, and return their names and year born."
   ]
  },
  {
   "cell_type": "code",
   "execution_count": 15,
   "metadata": {},
   "outputs": [
    {
     "name": "stdout",
     "output_type": "stream",
     "text": [
      "{'Emil Eifrem': 1978, 'Laurence Fishburne': 1961, 'Carrie-Anne Moss': 1967, 'Keanu Reeves': 1964}\n"
     ]
    }
   ],
   "source": [
    "cypher = \"\"\"\n",
    "MATCH (p)-[:ACTED_IN]-(m:Movie)\n",
    "WHERE p.born > 1960 AND m.title = 'The Matrix'\n",
    "RETURN p.name as name, p.born as born\n",
    "\"\"\"\n",
    "with neo4j_driver.session() as session:\n",
    "    actors = dict() # using dictionary to mix things up key,value => name,born\n",
    "    result = session.run(cypher)\n",
    "    for r in result:\n",
    "        actors[r['name']] = r['born']\n",
    "print(actors)"
   ]
  },
  {
   "cell_type": "markdown",
   "metadata": {},
   "source": [
    "Exercise 4.4: Retrieve all movies by testing the node label and a property (Instructions)\n",
    "\n",
    "Retrieve all movies released in 2000 by testing the node label and the released property, returning the movie titles."
   ]
  },
  {
   "cell_type": "code",
   "execution_count": null,
   "metadata": {},
   "outputs": [],
   "source": []
  }
 ],
 "metadata": {
  "kernelspec": {
   "display_name": "Python 3.7.5 64-bit ('YouTube': pipenv)",
   "language": "python",
   "name": "python37564bityoutubepipenvc59bfe2260c546fcb63499293b62f348"
  },
  "language_info": {
   "codemirror_mode": {
    "name": "ipython",
    "version": 3
   },
   "file_extension": ".py",
   "mimetype": "text/x-python",
   "name": "python",
   "nbconvert_exporter": "python",
   "pygments_lexer": "ipython3",
   "version": "3.7.5"
  }
 },
 "nbformat": 4,
 "nbformat_minor": 4
}
